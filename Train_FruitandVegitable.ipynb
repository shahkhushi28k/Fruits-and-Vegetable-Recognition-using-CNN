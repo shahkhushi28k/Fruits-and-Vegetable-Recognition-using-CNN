{
 "cells": [
  {
   "cell_type": "markdown",
   "id": "0b68ac97",
   "metadata": {},
   "source": [
    "**Importing Libraries**"
   ]
  },
  {
   "cell_type": "code",
   "execution_count": 1,
   "id": "9259cb57",
   "metadata": {},
   "outputs": [],
   "source": [
    "import numpy as np\n",
    "import tensorflow as tf\n",
    "import matplotlib.pyplot as plt"
   ]
  },
  {
   "cell_type": "markdown",
   "id": "dd1fe92c",
   "metadata": {},
   "source": [
    "**Data Preprocessing**"
   ]
  },
  {
   "cell_type": "code",
   "execution_count": 2,
   "id": "f617aed6",
   "metadata": {},
   "outputs": [
    {
     "name": "stdout",
     "output_type": "stream",
     "text": [
      "Found 3115 files belonging to 36 classes.\n"
     ]
    }
   ],
   "source": [
    "#Training Image Preprocessing (Image Data Loading)\n",
    "train_set = tf.keras.utils.image_dataset_from_directory(\n",
    "    'train',\n",
    "    labels=\"inferred\",\n",
    "    label_mode=\"categorical\",\n",
    "    class_names=None,\n",
    "    color_mode=\"rgb\",\n",
    "    batch_size=32,\n",
    "    image_size=(64, 64),\n",
    "    shuffle=True,\n",
    "    seed=None,\n",
    "    validation_split=None,\n",
    "    subset=None,\n",
    "    interpolation=\"bilinear\",\n",
    "    follow_links=False,\n",
    "    crop_to_aspect_ratio=False\n",
    ")"
   ]
  },
  {
   "cell_type": "markdown",
   "id": "58b41e44",
   "metadata": {},
   "source": [
    "**Validation image Preprocessing**"
   ]
  },
  {
   "cell_type": "code",
   "execution_count": 3,
   "id": "1f7b1046",
   "metadata": {},
   "outputs": [
    {
     "name": "stdout",
     "output_type": "stream",
     "text": [
      "Found 351 files belonging to 36 classes.\n"
     ]
    }
   ],
   "source": [
    "validation_set = tf.keras.utils.image_dataset_from_directory(\n",
    "    'validation',\n",
    "    labels=\"inferred\",\n",
    "    label_mode=\"categorical\",\n",
    "    class_names=None,\n",
    "    color_mode=\"rgb\",\n",
    "    batch_size=32,\n",
    "    image_size=(64, 64),\n",
    "    shuffle=True,\n",
    "    seed=None,\n",
    "    validation_split=None,\n",
    "    subset=None,\n",
    "    interpolation=\"bilinear\",\n",
    "    follow_links=False,\n",
    "    crop_to_aspect_ratio=False\n",
    ")"
   ]
  },
  {
   "cell_type": "markdown",
   "id": "61690b74",
   "metadata": {},
   "source": [
    "**Building Model**"
   ]
  },
  {
   "cell_type": "code",
   "execution_count": 4,
   "id": "d9efa25f",
   "metadata": {},
   "outputs": [],
   "source": [
    "cnn = tf.keras.Sequential()"
   ]
  },
  {
   "cell_type": "code",
   "execution_count": 5,
   "id": "0d8040fe",
   "metadata": {},
   "outputs": [],
   "source": [
    "#layer -> pooling(max/avg) -> flattening(fully connected)"
   ]
  },
  {
   "cell_type": "code",
   "execution_count": 6,
   "id": "f21f542b",
   "metadata": {},
   "outputs": [],
   "source": [
    "#Building convolution layer\n",
    "cnn.add(tf.keras.layers.Conv2D(filters=32, kernel_size=3, activation='relu',input_shape=[64,64,3])) #convolution layer\n",
    "cnn.add(tf.keras.layers.Conv2D(filters=32, kernel_size=3, activation='relu'))\n",
    "cnn.add(tf.keras.layers.MaxPool2D(pool_size=2,strides=2))#pooling layer"
   ]
  },
  {
   "cell_type": "code",
   "execution_count": 7,
   "id": "29417942",
   "metadata": {},
   "outputs": [],
   "source": [
    "cnn.add(tf.keras.layers.Conv2D(filters=64, kernel_size=3, activation='relu')) #convolution layer\n",
    "cnn.add(tf.keras.layers.Conv2D(filters=64, kernel_size=3, activation='relu'))\n",
    "cnn.add(tf.keras.layers.MaxPool2D(pool_size=2,strides=2))#pooling layer"
   ]
  },
  {
   "cell_type": "code",
   "execution_count": 8,
   "id": "20db90aa",
   "metadata": {},
   "outputs": [],
   "source": [
    "cnn.add(tf.keras.layers.Flatten())"
   ]
  },
  {
   "cell_type": "code",
   "execution_count": 9,
   "id": "60ef0265",
   "metadata": {},
   "outputs": [],
   "source": [
    "cnn.add(tf.keras.layers.Dense(units=512, activation='relu')) #converting layers into neurons"
   ]
  },
  {
   "cell_type": "code",
   "execution_count": 10,
   "id": "a5b27ed1",
   "metadata": {},
   "outputs": [],
   "source": [
    "cnn.add(tf.keras.layers.Dense(units=256, activation='relu'))"
   ]
  },
  {
   "cell_type": "code",
   "execution_count": 11,
   "id": "251be2a2",
   "metadata": {},
   "outputs": [],
   "source": [
    "cnn.add(tf.keras.layers.Dropout(0.5)) #to avoid overfitting"
   ]
  },
  {
   "cell_type": "code",
   "execution_count": 12,
   "id": "f849d98f",
   "metadata": {},
   "outputs": [],
   "source": [
    "cnn.add(tf.keras.layers.Dense(units=36, activation='softmax')) #output layer"
   ]
  },
  {
   "cell_type": "markdown",
   "id": "36688464",
   "metadata": {},
   "source": [
    "**Compiling and Training**"
   ]
  },
  {
   "cell_type": "code",
   "execution_count": 13,
   "id": "c401e432",
   "metadata": {},
   "outputs": [],
   "source": [
    "cnn.compile(optimizer = 'adam',loss='categorical_crossentropy',metrics=['accuracy'])"
   ]
  },
  {
   "cell_type": "code",
   "execution_count": 14,
   "id": "e3fe8807",
   "metadata": {},
   "outputs": [
    {
     "name": "stdout",
     "output_type": "stream",
     "text": [
      "Model: \"sequential\"\n",
      "_________________________________________________________________\n",
      " Layer (type)                Output Shape              Param #   \n",
      "=================================================================\n",
      " conv2d (Conv2D)             (None, 62, 62, 32)        896       \n",
      "                                                                 \n",
      " conv2d_1 (Conv2D)           (None, 60, 60, 32)        9248      \n",
      "                                                                 \n",
      " max_pooling2d (MaxPooling2  (None, 30, 30, 32)        0         \n",
      " D)                                                              \n",
      "                                                                 \n",
      " conv2d_2 (Conv2D)           (None, 28, 28, 64)        18496     \n",
      "                                                                 \n",
      " conv2d_3 (Conv2D)           (None, 26, 26, 64)        36928     \n",
      "                                                                 \n",
      " max_pooling2d_1 (MaxPoolin  (None, 13, 13, 64)        0         \n",
      " g2D)                                                            \n",
      "                                                                 \n",
      " flatten (Flatten)           (None, 10816)             0         \n",
      "                                                                 \n",
      " dense (Dense)               (None, 512)               5538304   \n",
      "                                                                 \n",
      " dense_1 (Dense)             (None, 256)               131328    \n",
      "                                                                 \n",
      " dropout (Dropout)           (None, 256)               0         \n",
      "                                                                 \n",
      " dense_2 (Dense)             (None, 36)                9252      \n",
      "                                                                 \n",
      "=================================================================\n",
      "Total params: 5744452 (21.91 MB)\n",
      "Trainable params: 5744452 (21.91 MB)\n",
      "Non-trainable params: 0 (0.00 Byte)\n",
      "_________________________________________________________________\n"
     ]
    }
   ],
   "source": [
    "cnn.summary()"
   ]
  },
  {
   "cell_type": "code",
   "execution_count": 15,
   "id": "fe98a4af",
   "metadata": {},
   "outputs": [
    {
     "name": "stdout",
     "output_type": "stream",
     "text": [
      "Epoch 1/32\n",
      "98/98 [==============================] - 183s 2s/step - loss: 4.8593 - accuracy: 0.0382 - val_loss: 3.4756 - val_accuracy: 0.0883\n",
      "Epoch 2/32\n",
      "98/98 [==============================] - 162s 2s/step - loss: 3.5663 - accuracy: 0.0437 - val_loss: 3.5646 - val_accuracy: 0.0456\n",
      "Epoch 3/32\n",
      "98/98 [==============================] - 160s 2s/step - loss: 3.5553 - accuracy: 0.0501 - val_loss: 3.4603 - val_accuracy: 0.1225\n",
      "Epoch 4/32\n",
      "98/98 [==============================] - 1134s 12s/step - loss: 3.4765 - accuracy: 0.0722 - val_loss: 3.3487 - val_accuracy: 0.2023\n",
      "Epoch 5/32\n",
      "98/98 [==============================] - 57s 546ms/step - loss: 3.3259 - accuracy: 0.0992 - val_loss: 3.0447 - val_accuracy: 0.2821\n",
      "Epoch 6/32\n",
      "98/98 [==============================] - 149s 2s/step - loss: 3.0846 - accuracy: 0.1644 - val_loss: 2.5333 - val_accuracy: 0.3647\n",
      "Epoch 7/32\n",
      "98/98 [==============================] - 157s 2s/step - loss: 2.8040 - accuracy: 0.2356 - val_loss: 2.1849 - val_accuracy: 0.4274\n",
      "Epoch 8/32\n",
      "98/98 [==============================] - 161s 2s/step - loss: 2.4644 - accuracy: 0.3233 - val_loss: 1.7992 - val_accuracy: 0.5954\n",
      "Epoch 9/32\n",
      "98/98 [==============================] - 267s 3s/step - loss: 2.1187 - accuracy: 0.4093 - val_loss: 1.5573 - val_accuracy: 0.6410\n",
      "Epoch 10/32\n",
      "98/98 [==============================] - 53s 514ms/step - loss: 1.8825 - accuracy: 0.4822 - val_loss: 1.3411 - val_accuracy: 0.6638\n",
      "Epoch 11/32\n",
      "98/98 [==============================] - 130s 1s/step - loss: 1.6363 - accuracy: 0.5480 - val_loss: 1.3707 - val_accuracy: 0.6695\n",
      "Epoch 12/32\n",
      "98/98 [==============================] - 157s 2s/step - loss: 1.4893 - accuracy: 0.5875 - val_loss: 1.2852 - val_accuracy: 0.7208\n",
      "Epoch 13/32\n",
      "98/98 [==============================] - 159s 2s/step - loss: 1.2706 - accuracy: 0.6501 - val_loss: 1.0361 - val_accuracy: 0.7721\n",
      "Epoch 14/32\n",
      "98/98 [==============================] - 160s 2s/step - loss: 1.1959 - accuracy: 0.6684 - val_loss: 1.0141 - val_accuracy: 0.7949\n",
      "Epoch 15/32\n",
      "98/98 [==============================] - 159s 2s/step - loss: 1.0713 - accuracy: 0.7053 - val_loss: 1.1320 - val_accuracy: 0.7521\n",
      "Epoch 16/32\n",
      "98/98 [==============================] - 166s 2s/step - loss: 0.9592 - accuracy: 0.7316 - val_loss: 0.9588 - val_accuracy: 0.8148\n",
      "Epoch 17/32\n",
      "98/98 [==============================] - 167s 2s/step - loss: 0.9635 - accuracy: 0.7429 - val_loss: 0.9681 - val_accuracy: 0.8120\n",
      "Epoch 18/32\n",
      "98/98 [==============================] - 396s 4s/step - loss: 0.8395 - accuracy: 0.7727 - val_loss: 0.8472 - val_accuracy: 0.8462\n",
      "Epoch 19/32\n",
      "98/98 [==============================] - 54s 521ms/step - loss: 0.7805 - accuracy: 0.7904 - val_loss: 1.0031 - val_accuracy: 0.8547\n",
      "Epoch 20/32\n",
      "98/98 [==============================] - 121s 1s/step - loss: 0.6974 - accuracy: 0.8116 - val_loss: 0.7741 - val_accuracy: 0.8917\n",
      "Epoch 21/32\n",
      "98/98 [==============================] - 158s 2s/step - loss: 0.5903 - accuracy: 0.8292 - val_loss: 0.8251 - val_accuracy: 0.8775\n",
      "Epoch 22/32\n",
      "98/98 [==============================] - 160s 2s/step - loss: 0.5776 - accuracy: 0.8449 - val_loss: 0.6805 - val_accuracy: 0.9117\n",
      "Epoch 23/32\n",
      "98/98 [==============================] - 159s 2s/step - loss: 0.5111 - accuracy: 0.8661 - val_loss: 0.8620 - val_accuracy: 0.9060\n",
      "Epoch 24/32\n",
      "98/98 [==============================] - 158s 2s/step - loss: 0.4608 - accuracy: 0.8735 - val_loss: 0.7986 - val_accuracy: 0.9174\n",
      "Epoch 25/32\n",
      "98/98 [==============================] - 407s 4s/step - loss: 0.4111 - accuracy: 0.8950 - val_loss: 0.7846 - val_accuracy: 0.9202\n",
      "Epoch 26/32\n",
      "98/98 [==============================] - 109s 1s/step - loss: 0.3777 - accuracy: 0.9079 - val_loss: 0.6139 - val_accuracy: 0.9259\n",
      "Epoch 27/32\n",
      "98/98 [==============================] - 109s 1s/step - loss: 0.2995 - accuracy: 0.9217 - val_loss: 0.6354 - val_accuracy: 0.9345\n",
      "Epoch 28/32\n",
      "98/98 [==============================] - 88s 844ms/step - loss: 0.2918 - accuracy: 0.9281 - val_loss: 0.6762 - val_accuracy: 0.9231\n",
      "Epoch 29/32\n",
      "98/98 [==============================] - 68s 656ms/step - loss: 0.3430 - accuracy: 0.9178 - val_loss: 0.5471 - val_accuracy: 0.9459\n",
      "Epoch 30/32\n",
      "98/98 [==============================] - 89s 873ms/step - loss: 0.2360 - accuracy: 0.9393 - val_loss: 0.6359 - val_accuracy: 0.9573\n",
      "Epoch 31/32\n",
      "98/98 [==============================] - 81s 782ms/step - loss: 0.2645 - accuracy: 0.9451 - val_loss: 0.6067 - val_accuracy: 0.9459\n",
      "Epoch 32/32\n",
      "98/98 [==============================] - 67s 650ms/step - loss: 0.2044 - accuracy: 0.9438 - val_loss: 0.5391 - val_accuracy: 0.9544\n"
     ]
    }
   ],
   "source": [
    "training_history = cnn.fit(x=train_set,validation_data=validation_set,epochs=32)"
   ]
  },
  {
   "cell_type": "markdown",
   "id": "39df9c92",
   "metadata": {},
   "source": [
    "**Saving Model**"
   ]
  },
  {
   "cell_type": "code",
   "execution_count": 16,
   "id": "307a2c45",
   "metadata": {},
   "outputs": [
    {
     "name": "stderr",
     "output_type": "stream",
     "text": [
      "C:\\Users\\khush\\anaconda3\\Lib\\site-packages\\keras\\src\\engine\\training.py:3000: UserWarning: You are saving your model as an HDF5 file via `model.save()`. This file format is considered legacy. We recommend using instead the native Keras format, e.g. `model.save('my_model.keras')`.\n",
      "  saving_api.save_model(\n"
     ]
    }
   ],
   "source": [
    "cnn.save('trained_model.h5')"
   ]
  },
  {
   "cell_type": "code",
   "execution_count": 17,
   "id": "b4ad68a2",
   "metadata": {},
   "outputs": [
    {
     "data": {
      "text/plain": [
       "{'loss': [4.859335422515869,\n",
       "  3.5662851333618164,\n",
       "  3.555309534072876,\n",
       "  3.476545810699463,\n",
       "  3.3259382247924805,\n",
       "  3.084608316421509,\n",
       "  2.804013729095459,\n",
       "  2.4643940925598145,\n",
       "  2.1187362670898438,\n",
       "  1.882521152496338,\n",
       "  1.6363096237182617,\n",
       "  1.489256501197815,\n",
       "  1.2705692052841187,\n",
       "  1.1959459781646729,\n",
       "  1.071299433708191,\n",
       "  0.9592155814170837,\n",
       "  0.9635041356086731,\n",
       "  0.8394689559936523,\n",
       "  0.7805220484733582,\n",
       "  0.6973636150360107,\n",
       "  0.5903054475784302,\n",
       "  0.5775567293167114,\n",
       "  0.5111390948295593,\n",
       "  0.4608142077922821,\n",
       "  0.4111054837703705,\n",
       "  0.37767961621284485,\n",
       "  0.29945245385169983,\n",
       "  0.29181334376335144,\n",
       "  0.34295347332954407,\n",
       "  0.23604100942611694,\n",
       "  0.2645255923271179,\n",
       "  0.2044263780117035],\n",
       " 'accuracy': [0.03820224851369858,\n",
       "  0.04365970939397812,\n",
       "  0.05008025839924812,\n",
       "  0.07223113626241684,\n",
       "  0.09919743239879608,\n",
       "  0.1643659770488739,\n",
       "  0.23563402891159058,\n",
       "  0.32327449321746826,\n",
       "  0.4093098044395447,\n",
       "  0.48218297958374023,\n",
       "  0.5479936003684998,\n",
       "  0.5874799489974976,\n",
       "  0.6500802636146545,\n",
       "  0.6683788299560547,\n",
       "  0.7052969336509705,\n",
       "  0.7316212058067322,\n",
       "  0.7428571581840515,\n",
       "  0.7727127075195312,\n",
       "  0.7903691530227661,\n",
       "  0.8115569949150085,\n",
       "  0.8292135000228882,\n",
       "  0.8449438214302063,\n",
       "  0.866131603717804,\n",
       "  0.873515248298645,\n",
       "  0.8950240612030029,\n",
       "  0.9078651666641235,\n",
       "  0.9216693639755249,\n",
       "  0.9280899167060852,\n",
       "  0.9178169965744019,\n",
       "  0.9393258690834045,\n",
       "  0.9451043605804443,\n",
       "  0.9438202381134033],\n",
       " 'val_loss': [3.4756276607513428,\n",
       "  3.564561367034912,\n",
       "  3.460287570953369,\n",
       "  3.348723888397217,\n",
       "  3.0447490215301514,\n",
       "  2.533308267593384,\n",
       "  2.1849143505096436,\n",
       "  1.7992186546325684,\n",
       "  1.55734121799469,\n",
       "  1.3410825729370117,\n",
       "  1.3706624507904053,\n",
       "  1.2852193117141724,\n",
       "  1.036087155342102,\n",
       "  1.0140546560287476,\n",
       "  1.1319570541381836,\n",
       "  0.9588349461555481,\n",
       "  0.9681046009063721,\n",
       "  0.8471565842628479,\n",
       "  1.003146767616272,\n",
       "  0.7740808725357056,\n",
       "  0.8251475691795349,\n",
       "  0.6805441379547119,\n",
       "  0.8620448708534241,\n",
       "  0.7986429333686829,\n",
       "  0.7845604419708252,\n",
       "  0.6139276623725891,\n",
       "  0.6354088187217712,\n",
       "  0.6762266755104065,\n",
       "  0.5471466183662415,\n",
       "  0.6359237432479858,\n",
       "  0.6067141890525818,\n",
       "  0.5390663146972656],\n",
       " 'val_accuracy': [0.0883190855383873,\n",
       "  0.045584045350551605,\n",
       "  0.12250712513923645,\n",
       "  0.202279195189476,\n",
       "  0.28205129504203796,\n",
       "  0.36467236280441284,\n",
       "  0.4273504316806793,\n",
       "  0.5954415798187256,\n",
       "  0.6410256624221802,\n",
       "  0.6638176441192627,\n",
       "  0.6695156693458557,\n",
       "  0.7207977175712585,\n",
       "  0.7720797657966614,\n",
       "  0.7948718070983887,\n",
       "  0.752136766910553,\n",
       "  0.8148148059844971,\n",
       "  0.811965823173523,\n",
       "  0.8461538553237915,\n",
       "  0.8547008633613586,\n",
       "  0.8917378783226013,\n",
       "  0.8774929046630859,\n",
       "  0.9116809368133545,\n",
       "  0.9059829115867615,\n",
       "  0.9173789024353027,\n",
       "  0.9202279448509216,\n",
       "  0.9259259104728699,\n",
       "  0.934472918510437,\n",
       "  0.9230769276618958,\n",
       "  0.945868968963623,\n",
       "  0.9572649598121643,\n",
       "  0.945868968963623,\n",
       "  0.9544159770011902]}"
      ]
     },
     "execution_count": 17,
     "metadata": {},
     "output_type": "execute_result"
    }
   ],
   "source": [
    "training_history.history #Return Dictionary of history"
   ]
  },
  {
   "cell_type": "code",
   "execution_count": 18,
   "id": "f1a14b84",
   "metadata": {},
   "outputs": [],
   "source": [
    "#Recordig history\n",
    "import json\n",
    "with open('training_hist.json','w') as f:\n",
    "    json.dump(training_history.history,f)"
   ]
  },
  {
   "cell_type": "code",
   "execution_count": 19,
   "id": "59bdaf8d",
   "metadata": {},
   "outputs": [
    {
     "name": "stdout",
     "output_type": "stream",
     "text": [
      "dict_keys(['loss', 'accuracy', 'val_loss', 'val_accuracy'])\n"
     ]
    }
   ],
   "source": [
    "print(training_history.history.keys())"
   ]
  },
  {
   "cell_type": "code",
   "execution_count": 20,
   "id": "5a3d8933",
   "metadata": {},
   "outputs": [
    {
     "name": "stdout",
     "output_type": "stream",
     "text": [
      "95.44159770011902\n"
     ]
    }
   ],
   "source": [
    "#Caluclation accuracy of model on validation set\n",
    "print(training_history.history['val_accuracy'][-1]*100)"
   ]
  },
  {
   "cell_type": "markdown",
   "id": "e1a074ef",
   "metadata": {},
   "source": [
    "**Visualization of accuracy**"
   ]
  },
  {
   "cell_type": "code",
   "execution_count": 21,
   "id": "c9ce840c",
   "metadata": {},
   "outputs": [],
   "source": [
    "#training_history.history['accuracy']"
   ]
  },
  {
   "cell_type": "code",
   "execution_count": 23,
   "id": "bc4aa630",
   "metadata": {},
   "outputs": [
    {
     "data": {
      "image/png": "[encoded data removed]",
      "text/plain": [
       "<Figure size 640x480 with 1 Axes>"
      ]
     },
     "metadata": {},
     "output_type": "display_data"
    }
   ],
   "source": [
    "epochs = [i for i in range(1,33)]\n",
    "plt.plot(epochs,training_history.history['accuracy'],color='red')\n",
    "plt.xlabel('No. of Epochs')\n",
    "plt.ylabel('Traiining Accuracy')\n",
    "plt.title('Visualization of Training Accuracy Result')\n",
    "plt.show()\n"
   ]
  },
  {
   "cell_type": "code",
   "execution_count": 24,
   "id": "8dfba176",
   "metadata": {},
   "outputs": [
    {
     "data": {
      "text/plain": [
       "Text(0.5, 1.0, 'Visualization of Validation Accuracy Result')"
      ]
     },
     "execution_count": 24,
     "metadata": {},
     "output_type": "execute_result"
    },
    {
     "data": {
      "image/png": "[encoded data removed]",
      "text/plain": [
       "<Figure size 640x480 with 1 Axes>"
      ]
     },
     "metadata": {},
     "output_type": "display_data"
    }
   ],
   "source": [
    "#Validation accuracy\n",
    "plt.plot(epochs,training_history.history['val_accuracy'],color='blue')\n",
    "plt.xlabel('Epochs')\n",
    "plt.ylabel('Validation Accuracy')\n",
    "plt.title('Visualization of Validation Accuracy Result')"
   ]
  },
  {
   "cell_type": "code",
   "execution_count": 25,
   "id": "a540427a",
   "metadata": {},
   "outputs": [
    {
     "name": "stdout",
     "output_type": "stream",
     "text": [
      "98/98 [==============================] - 44s 416ms/step - loss: 0.0806 - accuracy: 0.9807\n"
     ]
    }
   ],
   "source": [
    "train_loss,train_acuracy = cnn.evaluate(train_set)"
   ]
  },
  {
   "cell_type": "code",
   "execution_count": 27,
   "id": "c36a21a5",
   "metadata": {},
   "outputs": [
    {
     "name": "stdout",
     "output_type": "stream",
     "text": [
      "11/11 [==============================] - 6s 162ms/step - loss: 0.5391 - accuracy: 0.9544\n"
     ]
    }
   ],
   "source": [
    "val_loss,val_accuracy = cnn.evaluate(validation_set)"
   ]
  },
  {
   "cell_type": "code",
   "execution_count": 28,
   "id": "a3ab97e8",
   "metadata": {},
   "outputs": [
    {
     "name": "stdout",
     "output_type": "stream",
     "text": [
      "Found 359 files belonging to 36 classes.\n"
     ]
    }
   ],
   "source": [
    "test_set = tf.keras.utils.image_dataset_from_directory(\n",
    "    'test',\n",
    "    labels=\"inferred\",\n",
    "    label_mode=\"categorical\",\n",
    "    class_names=None,\n",
    "    color_mode=\"rgb\",\n",
    "    batch_size=32,\n",
    "    image_size=(64, 64),\n",
    "    shuffle=True,\n",
    "    seed=None,\n",
    "    validation_split=None,\n",
    "    subset=None,\n",
    "    interpolation=\"bilinear\",\n",
    "    follow_links=False,\n",
    "    crop_to_aspect_ratio=False\n",
    ")"
   ]
  },
  {
   "cell_type": "code",
   "execution_count": 29,
   "id": "c4c02c3d",
   "metadata": {},
   "outputs": [
    {
     "name": "stdout",
     "output_type": "stream",
     "text": [
      "12/12 [==============================] - 7s 169ms/step - loss: 0.5271 - accuracy: 0.9554\n"
     ]
    }
   ],
   "source": [
    "test_loss,test_acuracy = cnn.evaluate(test_set)"
   ]
  },
  {
   "cell_type": "code",
   "execution_count": null,
   "id": "1114a532",
   "metadata": {},
   "outputs": [],
   "source": []
  }
 ],
 "metadata": {
  "kernelspec": {
   "display_name": "Python 3 (ipykernel)",
   "language": "python",
   "name": "python3"
  },
  "language_info": {
   "codemirror_mode": {
    "name": "ipython",
    "version": 3
   },
   "file_extension": ".py",
   "mimetype": "text/x-python",
   "name": "python",
   "nbconvert_exporter": "python",
   "pygments_lexer": "ipython3",
   "version": "3.11.4"
  }
 },
 "nbformat": 4,
 "nbformat_minor": 5
}
